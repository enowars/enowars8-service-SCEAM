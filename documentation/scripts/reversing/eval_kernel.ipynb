{
 "cells": [
  {
   "cell_type": "code",
   "execution_count": 1,
   "metadata": {},
   "outputs": [],
   "source": [
    "import segno\n",
    "import os\n",
    "import random\n",
    "import io\n",
    "import string\n",
    "from tqdm import tqdm\n",
    "from pyzbar.pyzbar import decode\n",
    "from PIL import Image\n",
    "import numpy as np\n",
    "import cv2\n",
    "from segno import consts\n",
    "import string\n",
    "from qreader import QReader\n",
    "from skimage import restoration\n",
    "\n",
    "RETRIES = 3\n",
    "SCALE = 12\n",
    "BORDER = 20\n",
    "background_folder = r\"..\\..\\..\\checker\\src\\backgrounds\"\n",
    "qr_reader = QReader()\n",
    "\n",
    "def preload():\n",
    "    # preload backgrounds\n",
    "    res = []\n",
    "    background_files = os.listdir(background_folder)\n",
    "    for background_file in background_files:\n",
    "        path = os.path.join(background_folder, background_file)\n",
    "        res.append(cv2.imread(path))\n",
    "\n",
    "    # preload mask by emulating one holing process\n",
    "    flag = 'ENO'+''.join(random.choices(string.ascii_letters +\n",
    "                                        string.digits + '\\/=', k=48))\n",
    "    qr = segno.make_qr(flag, error='L', boost_error=False, version=4)\n",
    "    qr_size = qr.symbol_size(scale=SCALE, border=BORDER)\n",
    "    keep_modules = (consts.TYPE_FINDER_PATTERN_DARK, consts.TYPE_FINDER_PATTERN_LIGHT, consts.TYPE_SEPARATOR,\n",
    "                    consts.TYPE_ALIGNMENT_PATTERN_DARK, consts.TYPE_ALIGNMENT_PATTERN_LIGHT, consts.TYPE_TIMING_DARK,\n",
    "                    consts.TYPE_TIMING_LIGHT)\n",
    "    border_offset = BORDER * SCALE\n",
    "    d = SCALE // 3\n",
    "    qr_size_small = qr.symbol_size(scale=SCALE, border=0)\n",
    "    mask_image = np.zeros((qr_size_small[1], qr_size_small[0]), dtype=np.uint8)\n",
    "    for i, row in enumerate(qr.matrix_iter(scale=SCALE, border=BORDER, verbose=True)):\n",
    "        for j, m in enumerate(row):\n",
    "            # if qr_code keep_modules goes here make it transparent\n",
    "            if m in keep_modules:\n",
    "                mask_image[j-border_offset, i-border_offset] = 255\n",
    "            # if in qr code and not in border\n",
    "            if (i > border_offset and j > border_offset) and (i < qr_size[0] - border_offset and j < qr_size[1] - border_offset):\n",
    "                if (((i // d) % 3 == 1) and ((j // d) % 3 == 1)):\n",
    "                    mask_image[j-border_offset, i-border_offset] = 255\n",
    "    mask_image = cv2.copyMakeBorder(mask_image, border_offset, border_offset,\n",
    "                                    border_offset, border_offset, cv2.BORDER_CONSTANT, value=[0, 0, 0])\n",
    "\n",
    "    return res, mask_image\n",
    "\n",
    "\n",
    "preloaded_backgrounds, preloaded_mask = preload()\n",
    "\n"
   ]
  },
  {
   "cell_type": "code",
   "execution_count": 26,
   "metadata": {},
   "outputs": [],
   "source": [
    "\n",
    "def create_qr_code(flag, img_indx=0, scale=SCALE, border=BORDER) -> bytes:\n",
    "    border_offset = border * scale\n",
    "    qr = segno.make_qr(flag, error='L', boost_error=False, version=4)\n",
    "    qr_image = None\n",
    "    final_image = preloaded_backgrounds[img_indx].copy()\n",
    "    output = io.BytesIO()\n",
    "    qr.save(output, kind='png', scale=scale, border=0)\n",
    "    # Reset the pointer to the beginning of the BytesIO object\n",
    "    output.seek(0)\n",
    "    qr_image = Image.open(output).convert('RGB')\n",
    "    qr_image = np.array(qr_image)\n",
    "    qr_image = cv2.copyMakeBorder(qr_image, border_offset, border_offset,\n",
    "                                    border_offset, border_offset, cv2.BORDER_CONSTANT, value=[255, 255, 255])\n",
    "    heatmap = preloaded_mask == 255\n",
    "    final_image[heatmap] = qr_image[heatmap]\n",
    "    return final_image\n",
    "\n",
    "\n",
    "def read_qr_code(image) -> str:\n",
    "    decoded = qr_reader.detect_and_decode(image)\n",
    "    if decoded:\n",
    "        return decoded[0]\n",
    "    return None\n",
    "\n",
    "\n",
    "def pyzbar_read_qr_code(image) -> str:\n",
    "    decoded = decode(image)\n",
    "    if decoded:\n",
    "        return decoded[0].data.decode('utf-8')\n",
    "    return None\n",
    "\n",
    "\n"
   ]
  },
  {
   "cell_type": "code",
   "execution_count": 2,
   "metadata": {},
   "outputs": [
    {
     "data": {
      "text/plain": [
       "-1"
      ]
     },
     "execution_count": 2,
     "metadata": {},
     "output_type": "execute_result"
    }
   ],
   "source": [
    "blur_sigma = 6  # Standard deviation for Gaussian kernel\n",
    "kernel_size = 15  # Kernel size used for blurring\n",
    "kernel_1d = cv2.getGaussianKernel(kernel_size, blur_sigma)\n",
    "kernel = np.outer(kernel_1d, kernel_1d.transpose())\n",
    "def blur(image):\n",
    "    blurred_img = np.zeros_like(image, dtype=np.float32)\n",
    "    for i in range(3):\n",
    "        blurred_img[:, :, i] = cv2.filter2D(image[:, :, i], -1, kernel)\n",
    "    blurred_img_float = blurred_img.astype(float) / 255.0\n",
    "    return blurred_img_float\n",
    "\n",
    "def unblur(image):\n",
    "    restored_img = np.zeros_like(image)\n",
    "    for i in range(3):\n",
    "        # restored_img[:, :, i] = restoration.richardson_lucy(\n",
    "        #     blurred_img_float[:, :, i], kernel, num_iter=100)\n",
    "        restored_img[:, :, i] = restoration.wiener(\n",
    "            image[:, :, i], kernel, 0.01, clip=False)\n",
    "    restored_img = np.clip(restored_img, 0, 1)\n",
    "    restored_img = (restored_img * 255).astype(np.uint8)\n",
    "    return restored_img\n",
    "\n",
    "cv2.imshow('image', blur(preloaded_backgrounds[0]))\n",
    "cv2.imshow('image2', unblur(blur(preloaded_backgrounds[0])))\n",
    "cv2.waitKey(0)"
   ]
  },
  {
   "cell_type": "code",
   "execution_count": 28,
   "metadata": {},
   "outputs": [
    {
     "name": "stderr",
     "output_type": "stream",
     "text": [
      "100%|██████████| 35/35 [08:10<00:00, 14.02s/it]\n"
     ]
    }
   ],
   "source": [
    "data = {}\n",
    "iters = 10\n",
    "length = len(preloaded_backgrounds)\n",
    "for i in tqdm(range(length)):\n",
    "    data[i] = 0\n",
    "    for j in range(iters):\n",
    "        qr_code = create_qr_code('ENO' + ''.join(random.choices(string.ascii_letters +\n",
    "                                                                string.digits + '\\/=', k=48)), i)\n",
    "        blurred = blur(qr_code)\n",
    "        unblurred = unblur(blurred)\n",
    "        decoded = read_qr_code(unblurred)\n",
    "        # decoded = pyzbar_read_qr_code(qr_code)\n",
    "        if decoded:\n",
    "            data[i] += 1\n",
    "        \n"
   ]
  },
  {
   "cell_type": "code",
   "execution_count": 29,
   "metadata": {},
   "outputs": [],
   "source": [
    "import json\n",
    "with open('kernel_test.json', 'w') as f:\n",
    "    json.dump(data, f, indent=4, sort_keys=True)\n",
    "    \n",
    "with open('kernel_test.json', 'r') as f:\n",
    "    data = json.load(f)\n"
   ]
  },
  {
   "cell_type": "code",
   "execution_count": 31,
   "metadata": {},
   "outputs": [
    {
     "name": "stderr",
     "output_type": "stream",
     "text": [
      "C:\\Users\\a_misc\\AppData\\Local\\Temp\\ipykernel_1800\\2804513316.py:7: UserWarning: FigureCanvasAgg is non-interactive, and thus cannot be shown\n",
      "  plot.show()\n"
     ]
    },
    {
     "name": "stdout",
     "output_type": "stream",
     "text": [
      "['3', '18', '22', '25', '26', '28', '30', '31', '33', '34']\n"
     ]
    },
    {
     "data": {
      "image/png": "[encoded data removed]",
      "text/plain": [
       "<Figure size 1000x500 with 1 Axes>"
      ]
     },
     "metadata": {},
     "output_type": "display_data"
    }
   ],
   "source": [
    "import matplotlib.pyplot as plt\n",
    "plot, axs = plt.subplots(1,1,figsize=(10,5))\n",
    "axs.set_title('Stability Evaluation')\n",
    "axs.set_xlabel('Background Index')\n",
    "axs.set_ylabel(f'Number of successful reads out of {iters} iterations')\n",
    "axs.bar(data.keys(), data.values())\n",
    "plot.show()\n",
    "# print index whoes values is not iters\n",
    "to_check = [k for k, v in data.items() if v != iters]\n",
    "print(to_check)\n",
    "for i in to_check:\n",
    "    cv2.imshow(f'CHECK index {str(i)}',preloaded_backgrounds[int(i)])\n",
    "cv2.waitKey(0)\n",
    "cv2.destroyAllWindows()\n"
   ]
  },
  {
   "cell_type": "code",
   "execution_count": null,
   "metadata": {},
   "outputs": [],
   "source": [
    "\n"
   ]
  }
 ],
 "metadata": {
  "kernelspec": {
   "display_name": "ctf_service",
   "language": "python",
   "name": "python3"
  },
  "language_info": {
   "codemirror_mode": {
    "name": "ipython",
    "version": 3
   },
   "file_extension": ".py",
   "mimetype": "text/x-python",
   "name": "python",
   "nbconvert_exporter": "python",
   "pygments_lexer": "ipython3",
   "version": "3.10.9"
  }
 },
 "nbformat": 4,
 "nbformat_minor": 2
}
